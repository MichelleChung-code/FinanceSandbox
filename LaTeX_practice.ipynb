{
 "cells": [
  {
   "cell_type": "markdown",
   "metadata": {},
   "source": [
    "Matrix:\n",
    "\n",
    "$$\\begin{bmatrix} 1 & 2 & 3 \\\\ 4 & 5 & 6 \\\\ 7 & 8 & 9 \\end{bmatrix}$$\n",
    "\n",
    "Brackets:\n",
    "$$\\left( \\frac{a}{b} \\right)$$\n",
    "\n",
    "Limit:\n",
    "$$f'(x) = \\lim_{x \\to \\infty} $$"
   ]
  },
  {
   "cell_type": "markdown",
   "metadata": {},
   "source": [
    "**Black-Scholes-Merton formula**\n",
    "\n",
    "$$C = N(d_1)S_t - N(d_2)Ke^{-rt} $$\n",
    "where $$ d_1 = \\frac{ln\\frac{S_t}{K} + (r+\\frac{\\sigma^2}{2}) t}{\\sigma \\sqrt(t)}$$\n",
    "and $$ d_2 = d_1 - \\sigma \\sqrt(t) $$"
   ]
  }
 ],
 "metadata": {
  "kernelspec": {
   "display_name": "Python 3",
   "language": "python",
   "name": "python3"
  },
  "language_info": {
   "codemirror_mode": {
    "name": "ipython",
    "version": 3
   },
   "file_extension": ".py",
   "mimetype": "text/x-python",
   "name": "python",
   "nbconvert_exporter": "python",
   "pygments_lexer": "ipython3",
   "version": "3.6.5"
  }
 },
 "nbformat": 4,
 "nbformat_minor": 2
}
